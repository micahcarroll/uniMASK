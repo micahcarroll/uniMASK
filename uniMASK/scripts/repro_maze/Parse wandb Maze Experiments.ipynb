{
 "cells": [
  {
   "cell_type": "code",
   "execution_count": 1,
   "id": "6bb7d58b",
   "metadata": {},
   "outputs": [],
   "source": [
    "from collections import defaultdict\n",
    "import numpy as np\n",
    "import wandb\n",
    "\n",
    "from uniMASK.utils import (\n",
    "    average_dictionaries,\n",
    "    create_dir_if_not_exists,\n",
    "    delete_dir_if_exists,\n",
    "    load_from_json,\n",
    "    mean_and_std_err,\n",
    "    save_as_json,\n",
    "    to_numpy,\n",
    ")"
   ]
  },
  {
   "cell_type": "code",
   "execution_count": 2,
   "id": "6dfaac71",
   "metadata": {},
   "outputs": [],
   "source": [
    "api = wandb.Api()\n",
    "\n",
    "# Project is specified by <entity/project-name>\n",
    "runs = api.runs(\"fbert/maze_expl_sweeps_reproduce\")\n",
    "summary_list = [] \n",
    "config_list = [] \n",
    "name_list = [] \n",
    "for run in runs: \n",
    "    # run.summary are the output key/values like accuracy.\n",
    "    # We call ._json_dict to omit large files \n",
    "    summary_list.append(run.summary._json_dict) \n",
    "\n",
    "    # run.config is the input metrics.\n",
    "    # We remove special values that start with _.\n",
    "    config = {k:v for k,v in run.config.items() if not k.startswith('_')}\n",
    "    config_list.append(config) \n",
    "\n",
    "    # run.name is the name of the run.\n",
    "    name_list.append(run.name)       \n",
    "\n",
    "import pandas as pd \n",
    "summary_df = pd.DataFrame.from_records(summary_list) \n",
    "config_df = pd.DataFrame.from_records(config_list) \n",
    "name_df = pd.DataFrame({'name': name_list}) \n",
    "all_df = pd.concat([name_df, config_df,summary_df], axis=1)"
   ]
  },
  {
   "cell_type": "code",
   "execution_count": null,
   "id": "6c3679da",
   "metadata": {},
   "outputs": [],
   "source": []
  },
  {
   "cell_type": "code",
   "execution_count": 3,
   "id": "3983e899",
   "metadata": {},
   "outputs": [],
   "source": [
    "def get_dicts(seq_len):\n",
    "    df = all_df[all_df.seq_len == seq_len]\n",
    "    \n",
    "    d = defaultdict(lambda: defaultdict(list))\n",
    "    for row_idx in range(len(df)):\n",
    "        row = df.iloc[row_idx]\n",
    "        run_name = row['name']\n",
    "        bc_rew = row['best_eval_avg_rew_BCBC']\n",
    "        rc_rew = row['best_eval_avg_rew_RCRC']\n",
    "        d[run_name[:-7]][\"bc_rew\"].append(bc_rew)\n",
    "        d[run_name[:-7]][\"rc_rew\"].append(rc_rew)\n",
    "    \n",
    "    bc_table_values = {k: mean_and_std_err(v['bc_rew']) for k, v in d.items()}\n",
    "    rc_table_values = {k: mean_and_std_err(v['rc_rew']) for k, v in d.items()}\n",
    "    best_bc_table_values = {k: np.argmax(v['bc_rew']) for k, v in d.items()}\n",
    "    best_rc_table_values = {k: np.argmax(v['rc_rew']) for k, v in d.items()}\n",
    "    return bc_table_values, rc_table_values, best_bc_table_values, best_rc_table_values"
   ]
  },
  {
   "cell_type": "code",
   "execution_count": 4,
   "id": "562b02f2",
   "metadata": {},
   "outputs": [],
   "source": [
    "a, b, c, d = get_dicts(10)"
   ]
  },
  {
   "cell_type": "code",
   "execution_count": 5,
   "id": "4365f534",
   "metadata": {},
   "outputs": [
    {
     "data": {
      "text/plain": [
       "({'900N_10len_DT_BC_rl_sl0_t_enc_DT': (1.581528819093314, 0.05752544208101805),\n",
       "  '900N_10len_DT_RC_rl_sl0_t_enc_DT': (nan, nan),\n",
       "  '900N_10len_RC_rl_NN': (nan, nan),\n",
       "  '900N_10len_BC_rl_NN': (1.8314716384128409, 0.066168293128948),\n",
       "  '900N_10len_DT_RC_rl_sl0_DT': (nan, nan),\n",
       "  '900N_10len_DT_BC_rl_sl0_DT': (2.7419418408825975, 0.01129227507346532),\n",
       "  '900N_10len_RC_rl': (nan, nan),\n",
       "  '900N_10len_BC_rl': (2.4676030231346324, 0.044116914384106684),\n",
       "  '900N_10len_rnd_BC_rl': (2.3621858031193916, 0.05770550366157036),\n",
       "  '900N_10len_BC_RC_rl': (2.3902412642475896, 0.03391566144801734),\n",
       "  '900N_10len_rnd_rl': (2.292935913451514, 0.0707849456179969)},\n",
       " {'900N_10len_DT_BC_rl_sl0_t_enc_DT': (nan, nan),\n",
       "  '900N_10len_DT_RC_rl_sl0_t_enc_DT': (1.7000489033190438,\n",
       "   0.07455501826692258),\n",
       "  '900N_10len_RC_rl_NN': (1.8751192178712928, 0.0647570515695031),\n",
       "  '900N_10len_BC_rl_NN': (nan, nan),\n",
       "  '900N_10len_DT_RC_rl_sl0_DT': (2.725090147117382, 0.02092296001031855),\n",
       "  '900N_10len_DT_BC_rl_sl0_DT': (nan, nan),\n",
       "  '900N_10len_RC_rl': (2.4149014270047884, 0.045370413314322025),\n",
       "  '900N_10len_BC_rl': (nan, nan),\n",
       "  '900N_10len_rnd_BC_rl': (nan, nan),\n",
       "  '900N_10len_BC_RC_rl': (2.386277946834995, 0.03299964146725702),\n",
       "  '900N_10len_rnd_rl': (2.3064043475162412, 0.06098353552067581)})"
      ]
     },
     "execution_count": 5,
     "metadata": {},
     "output_type": "execute_result"
    }
   ],
   "source": [
    "a,b"
   ]
  },
  {
   "cell_type": "code",
   "execution_count": 6,
   "id": "19ce6b0a",
   "metadata": {
    "scrolled": true
   },
   "outputs": [
    {
     "data": {
      "text/plain": [
       "({'900N_10len_DT_BC_rl_sl0_t_enc_DT': 4,\n",
       "  '900N_10len_DT_RC_rl_sl0_t_enc_DT': 0,\n",
       "  '900N_10len_RC_rl_NN': 0,\n",
       "  '900N_10len_BC_rl_NN': 2,\n",
       "  '900N_10len_DT_RC_rl_sl0_DT': 0,\n",
       "  '900N_10len_DT_BC_rl_sl0_DT': 2,\n",
       "  '900N_10len_RC_rl': 0,\n",
       "  '900N_10len_BC_rl': 2,\n",
       "  '900N_10len_rnd_BC_rl': 3,\n",
       "  '900N_10len_BC_RC_rl': 3,\n",
       "  '900N_10len_rnd_rl': 0},\n",
       " {'900N_10len_DT_BC_rl_sl0_t_enc_DT': 0,\n",
       "  '900N_10len_DT_RC_rl_sl0_t_enc_DT': 2,\n",
       "  '900N_10len_RC_rl_NN': 4,\n",
       "  '900N_10len_BC_rl_NN': 0,\n",
       "  '900N_10len_DT_RC_rl_sl0_DT': 2,\n",
       "  '900N_10len_DT_BC_rl_sl0_DT': 0,\n",
       "  '900N_10len_RC_rl': 4,\n",
       "  '900N_10len_BC_rl': 0,\n",
       "  '900N_10len_rnd_BC_rl': 0,\n",
       "  '900N_10len_BC_RC_rl': 3,\n",
       "  '900N_10len_rnd_rl': 0})"
      ]
     },
     "execution_count": 6,
     "metadata": {},
     "output_type": "execute_result"
    }
   ],
   "source": [
    "c, d"
   ]
  },
  {
   "cell_type": "code",
   "execution_count": 7,
   "id": "1501a9c5",
   "metadata": {},
   "outputs": [],
   "source": [
    "api = wandb.Api()\n",
    "\n",
    "# Project is specified by <entity/project-name>\n",
    "runs = api.runs(\"fbert/maze_expl_sweeps_reproduce_medium\")\n",
    "summary_list = [] \n",
    "config_list = [] \n",
    "name_list = [] \n",
    "for run in runs: \n",
    "    # run.summary are the output key/values like accuracy.\n",
    "    # We call ._json_dict to omit large files \n",
    "    summary_list.append(run.summary._json_dict) \n",
    "\n",
    "    # run.config is the input metrics.\n",
    "    # We remove special values that start with _.\n",
    "    config = {k:v for k,v in run.config.items() if not k.startswith('_')}\n",
    "    config_list.append(config) \n",
    "\n",
    "    # run.name is the name of the run.\n",
    "    name_list.append(run.name)       \n",
    "\n",
    "import pandas as pd \n",
    "summary_df = pd.DataFrame.from_records(summary_list) \n",
    "config_df = pd.DataFrame.from_records(config_list) \n",
    "name_df = pd.DataFrame({'name': name_list}) \n",
    "all_df = pd.concat([name_df, config_df,summary_df], axis=1)"
   ]
  },
  {
   "cell_type": "code",
   "execution_count": 8,
   "id": "2598f4ab",
   "metadata": {},
   "outputs": [
    {
     "ename": "KeyError",
     "evalue": "'best_eval_avg_rew_BCBC'",
     "output_type": "error",
     "traceback": [
      "\u001B[0;31m---------------------------------------------------------------------------\u001B[0m",
      "\u001B[0;31mKeyError\u001B[0m                                  Traceback (most recent call last)",
      "\u001B[0;32m~/opt/anaconda3/envs/uniMASK/lib/python3.7/site-packages/pandas/core/indexes/base.py\u001B[0m in \u001B[0;36mget_loc\u001B[0;34m(self, key, method, tolerance)\u001B[0m\n\u001B[1;32m   3360\u001B[0m             \u001B[0;32mtry\u001B[0m\u001B[0;34m:\u001B[0m\u001B[0;34m\u001B[0m\u001B[0;34m\u001B[0m\u001B[0m\n\u001B[0;32m-> 3361\u001B[0;31m                 \u001B[0;32mreturn\u001B[0m \u001B[0mself\u001B[0m\u001B[0;34m.\u001B[0m\u001B[0m_engine\u001B[0m\u001B[0;34m.\u001B[0m\u001B[0mget_loc\u001B[0m\u001B[0;34m(\u001B[0m\u001B[0mcasted_key\u001B[0m\u001B[0;34m)\u001B[0m\u001B[0;34m\u001B[0m\u001B[0;34m\u001B[0m\u001B[0m\n\u001B[0m\u001B[1;32m   3362\u001B[0m             \u001B[0;32mexcept\u001B[0m \u001B[0mKeyError\u001B[0m \u001B[0;32mas\u001B[0m \u001B[0merr\u001B[0m\u001B[0;34m:\u001B[0m\u001B[0;34m\u001B[0m\u001B[0;34m\u001B[0m\u001B[0m\n",
      "\u001B[0;32m~/opt/anaconda3/envs/uniMASK/lib/python3.7/site-packages/pandas/_libs/index.pyx\u001B[0m in \u001B[0;36mpandas._libs.index.IndexEngine.get_loc\u001B[0;34m()\u001B[0m\n",
      "\u001B[0;32m~/opt/anaconda3/envs/uniMASK/lib/python3.7/site-packages/pandas/_libs/index.pyx\u001B[0m in \u001B[0;36mpandas._libs.index.IndexEngine.get_loc\u001B[0;34m()\u001B[0m\n",
      "\u001B[0;32mpandas/_libs/hashtable_class_helper.pxi\u001B[0m in \u001B[0;36mpandas._libs.hashtable.PyObjectHashTable.get_item\u001B[0;34m()\u001B[0m\n",
      "\u001B[0;32mpandas/_libs/hashtable_class_helper.pxi\u001B[0m in \u001B[0;36mpandas._libs.hashtable.PyObjectHashTable.get_item\u001B[0;34m()\u001B[0m\n",
      "\u001B[0;31mKeyError\u001B[0m: 'best_eval_avg_rew_BCBC'",
      "\nThe above exception was the direct cause of the following exception:\n",
      "\u001B[0;31mKeyError\u001B[0m                                  Traceback (most recent call last)",
      "\u001B[0;32m/var/folders/qc/bdvg83v530n09zhg0k9s7z_m0000gn/T/ipykernel_61250/697741699.py\u001B[0m in \u001B[0;36m<module>\u001B[0;34m\u001B[0m\n\u001B[0;32m----> 1\u001B[0;31m \u001B[0ma\u001B[0m\u001B[0;34m,\u001B[0m \u001B[0mb\u001B[0m\u001B[0;34m,\u001B[0m \u001B[0mc\u001B[0m\u001B[0;34m,\u001B[0m \u001B[0md\u001B[0m \u001B[0;34m=\u001B[0m \u001B[0mget_dicts\u001B[0m\u001B[0;34m(\u001B[0m\u001B[0;36m5\u001B[0m\u001B[0;34m)\u001B[0m\u001B[0;34m\u001B[0m\u001B[0;34m\u001B[0m\u001B[0m\n\u001B[0m",
      "\u001B[0;32m/var/folders/qc/bdvg83v530n09zhg0k9s7z_m0000gn/T/ipykernel_61250/1805622768.py\u001B[0m in \u001B[0;36mget_dicts\u001B[0;34m(seq_len)\u001B[0m\n\u001B[1;32m      6\u001B[0m         \u001B[0mrow\u001B[0m \u001B[0;34m=\u001B[0m \u001B[0mdf\u001B[0m\u001B[0;34m.\u001B[0m\u001B[0miloc\u001B[0m\u001B[0;34m[\u001B[0m\u001B[0mrow_idx\u001B[0m\u001B[0;34m]\u001B[0m\u001B[0;34m\u001B[0m\u001B[0;34m\u001B[0m\u001B[0m\n\u001B[1;32m      7\u001B[0m         \u001B[0mrun_name\u001B[0m \u001B[0;34m=\u001B[0m \u001B[0mrow\u001B[0m\u001B[0;34m[\u001B[0m\u001B[0;34m'name'\u001B[0m\u001B[0;34m]\u001B[0m\u001B[0;34m\u001B[0m\u001B[0;34m\u001B[0m\u001B[0m\n\u001B[0;32m----> 8\u001B[0;31m         \u001B[0mbc_rew\u001B[0m \u001B[0;34m=\u001B[0m \u001B[0mrow\u001B[0m\u001B[0;34m[\u001B[0m\u001B[0;34m'best_eval_avg_rew_BCBC'\u001B[0m\u001B[0;34m]\u001B[0m\u001B[0;34m\u001B[0m\u001B[0;34m\u001B[0m\u001B[0m\n\u001B[0m\u001B[1;32m      9\u001B[0m         \u001B[0mrc_rew\u001B[0m \u001B[0;34m=\u001B[0m \u001B[0mrow\u001B[0m\u001B[0;34m[\u001B[0m\u001B[0;34m'best_eval_avg_rew_RCRC'\u001B[0m\u001B[0;34m]\u001B[0m\u001B[0;34m\u001B[0m\u001B[0;34m\u001B[0m\u001B[0m\n\u001B[1;32m     10\u001B[0m         \u001B[0md\u001B[0m\u001B[0;34m[\u001B[0m\u001B[0mrun_name\u001B[0m\u001B[0;34m[\u001B[0m\u001B[0;34m:\u001B[0m\u001B[0;34m-\u001B[0m\u001B[0;36m7\u001B[0m\u001B[0;34m]\u001B[0m\u001B[0;34m]\u001B[0m\u001B[0;34m[\u001B[0m\u001B[0;34m\"bc_rew\"\u001B[0m\u001B[0;34m]\u001B[0m\u001B[0;34m.\u001B[0m\u001B[0mappend\u001B[0m\u001B[0;34m(\u001B[0m\u001B[0mbc_rew\u001B[0m\u001B[0;34m)\u001B[0m\u001B[0;34m\u001B[0m\u001B[0;34m\u001B[0m\u001B[0m\n",
      "\u001B[0;32m~/opt/anaconda3/envs/uniMASK/lib/python3.7/site-packages/pandas/core/series.py\u001B[0m in \u001B[0;36m__getitem__\u001B[0;34m(self, key)\u001B[0m\n\u001B[1;32m    940\u001B[0m \u001B[0;34m\u001B[0m\u001B[0m\n\u001B[1;32m    941\u001B[0m         \u001B[0;32melif\u001B[0m \u001B[0mkey_is_scalar\u001B[0m\u001B[0;34m:\u001B[0m\u001B[0;34m\u001B[0m\u001B[0;34m\u001B[0m\u001B[0m\n\u001B[0;32m--> 942\u001B[0;31m             \u001B[0;32mreturn\u001B[0m \u001B[0mself\u001B[0m\u001B[0;34m.\u001B[0m\u001B[0m_get_value\u001B[0m\u001B[0;34m(\u001B[0m\u001B[0mkey\u001B[0m\u001B[0;34m)\u001B[0m\u001B[0;34m\u001B[0m\u001B[0;34m\u001B[0m\u001B[0m\n\u001B[0m\u001B[1;32m    943\u001B[0m \u001B[0;34m\u001B[0m\u001B[0m\n\u001B[1;32m    944\u001B[0m         \u001B[0;32mif\u001B[0m \u001B[0mis_hashable\u001B[0m\u001B[0;34m(\u001B[0m\u001B[0mkey\u001B[0m\u001B[0;34m)\u001B[0m\u001B[0;34m:\u001B[0m\u001B[0;34m\u001B[0m\u001B[0;34m\u001B[0m\u001B[0m\n",
      "\u001B[0;32m~/opt/anaconda3/envs/uniMASK/lib/python3.7/site-packages/pandas/core/series.py\u001B[0m in \u001B[0;36m_get_value\u001B[0;34m(self, label, takeable)\u001B[0m\n\u001B[1;32m   1049\u001B[0m \u001B[0;34m\u001B[0m\u001B[0m\n\u001B[1;32m   1050\u001B[0m         \u001B[0;31m# Similar to Index.get_value, but we do not fall back to positional\u001B[0m\u001B[0;34m\u001B[0m\u001B[0;34m\u001B[0m\u001B[0;34m\u001B[0m\u001B[0m\n\u001B[0;32m-> 1051\u001B[0;31m         \u001B[0mloc\u001B[0m \u001B[0;34m=\u001B[0m \u001B[0mself\u001B[0m\u001B[0;34m.\u001B[0m\u001B[0mindex\u001B[0m\u001B[0;34m.\u001B[0m\u001B[0mget_loc\u001B[0m\u001B[0;34m(\u001B[0m\u001B[0mlabel\u001B[0m\u001B[0;34m)\u001B[0m\u001B[0;34m\u001B[0m\u001B[0;34m\u001B[0m\u001B[0m\n\u001B[0m\u001B[1;32m   1052\u001B[0m         \u001B[0;32mreturn\u001B[0m \u001B[0mself\u001B[0m\u001B[0;34m.\u001B[0m\u001B[0mindex\u001B[0m\u001B[0;34m.\u001B[0m\u001B[0m_get_values_for_loc\u001B[0m\u001B[0;34m(\u001B[0m\u001B[0mself\u001B[0m\u001B[0;34m,\u001B[0m \u001B[0mloc\u001B[0m\u001B[0;34m,\u001B[0m \u001B[0mlabel\u001B[0m\u001B[0;34m)\u001B[0m\u001B[0;34m\u001B[0m\u001B[0;34m\u001B[0m\u001B[0m\n\u001B[1;32m   1053\u001B[0m \u001B[0;34m\u001B[0m\u001B[0m\n",
      "\u001B[0;32m~/opt/anaconda3/envs/uniMASK/lib/python3.7/site-packages/pandas/core/indexes/base.py\u001B[0m in \u001B[0;36mget_loc\u001B[0;34m(self, key, method, tolerance)\u001B[0m\n\u001B[1;32m   3361\u001B[0m                 \u001B[0;32mreturn\u001B[0m \u001B[0mself\u001B[0m\u001B[0;34m.\u001B[0m\u001B[0m_engine\u001B[0m\u001B[0;34m.\u001B[0m\u001B[0mget_loc\u001B[0m\u001B[0;34m(\u001B[0m\u001B[0mcasted_key\u001B[0m\u001B[0;34m)\u001B[0m\u001B[0;34m\u001B[0m\u001B[0;34m\u001B[0m\u001B[0m\n\u001B[1;32m   3362\u001B[0m             \u001B[0;32mexcept\u001B[0m \u001B[0mKeyError\u001B[0m \u001B[0;32mas\u001B[0m \u001B[0merr\u001B[0m\u001B[0;34m:\u001B[0m\u001B[0;34m\u001B[0m\u001B[0;34m\u001B[0m\u001B[0m\n\u001B[0;32m-> 3363\u001B[0;31m                 \u001B[0;32mraise\u001B[0m \u001B[0mKeyError\u001B[0m\u001B[0;34m(\u001B[0m\u001B[0mkey\u001B[0m\u001B[0;34m)\u001B[0m \u001B[0;32mfrom\u001B[0m \u001B[0merr\u001B[0m\u001B[0;34m\u001B[0m\u001B[0;34m\u001B[0m\u001B[0m\n\u001B[0m\u001B[1;32m   3364\u001B[0m \u001B[0;34m\u001B[0m\u001B[0m\n\u001B[1;32m   3365\u001B[0m         \u001B[0;32mif\u001B[0m \u001B[0mis_scalar\u001B[0m\u001B[0;34m(\u001B[0m\u001B[0mkey\u001B[0m\u001B[0;34m)\u001B[0m \u001B[0;32mand\u001B[0m \u001B[0misna\u001B[0m\u001B[0;34m(\u001B[0m\u001B[0mkey\u001B[0m\u001B[0;34m)\u001B[0m \u001B[0;32mand\u001B[0m \u001B[0;32mnot\u001B[0m \u001B[0mself\u001B[0m\u001B[0;34m.\u001B[0m\u001B[0mhasnans\u001B[0m\u001B[0;34m:\u001B[0m\u001B[0;34m\u001B[0m\u001B[0;34m\u001B[0m\u001B[0m\n",
      "\u001B[0;31mKeyError\u001B[0m: 'best_eval_avg_rew_BCBC'"
     ]
    }
   ],
   "source": [
    "a, b, c, d = get_dicts(5)"
   ]
  },
  {
   "cell_type": "code",
   "execution_count": null,
   "id": "f6c05231",
   "metadata": {},
   "outputs": [],
   "source": [
    "\n"
   ]
  }
 ],
 "metadata": {
  "kernelspec": {
   "display_name": "Python 3 (ipykernel)",
   "language": "python",
   "name": "python3"
  },
  "language_info": {
   "codemirror_mode": {
    "name": "ipython",
    "version": 3
   },
   "file_extension": ".py",
   "mimetype": "text/x-python",
   "name": "python",
   "nbconvert_exporter": "python",
   "pygments_lexer": "ipython3",
   "version": "3.7.13"
  }
 },
 "nbformat": 4,
 "nbformat_minor": 5
}